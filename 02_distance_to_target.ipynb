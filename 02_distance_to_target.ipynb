{
 "cells": [
  {
   "cell_type": "code",
   "execution_count": 1,
   "id": "39869a55",
   "metadata": {},
   "outputs": [],
   "source": [
    "import math"
   ]
  },
  {
   "cell_type": "code",
   "execution_count": 24,
   "id": "43045461",
   "metadata": {},
   "outputs": [
    {
     "name": "stdout",
     "output_type": "stream",
     "text": [
      "target size (cm): 81\n",
      "distance you need is 432.4731082820929 cm\n"
     ]
    }
   ],
   "source": [
    "#in centimeter\n",
    "target_size = float(input('target size (cm): '))\n",
    "distance = target_size / (2*math.tan(5.35 * math.pi/180))\n",
    "print('distance you need is ' + str(distance) + ' cm')"
   ]
  },
  {
   "cell_type": "code",
   "execution_count": 3,
   "id": "1f9ad370",
   "metadata": {
    "scrolled": true
   },
   "outputs": [
    {
     "name": "stdout",
     "output_type": "stream",
     "text": [
      "distance (cm): 295.7\n",
      "view size is 55.38309675517864 cm\n"
     ]
    }
   ],
   "source": [
    "#in centimeter\n",
    "distance_2 = float(input('distance (cm): '))\n",
    "target_size_2 = 2*distance_2 * math.tan(5.35 * math.pi/180)\n",
    " \n",
    "print('view size is ' + str(target_size_2) + ' cm')"
   ]
  },
  {
   "cell_type": "code",
   "execution_count": 2,
   "id": "f7a7bf9b",
   "metadata": {},
   "outputs": [
    {
     "name": "stdout",
     "output_type": "stream",
     "text": [
      "high(cm): 150\n",
      "horizontal_distance is 4.121216129181932 m\n",
      "view size is 161.78823614751974 cm\n"
     ]
    }
   ],
   "source": [
    "#in centimeter\n",
    "high_of_boat = float(input('high(cm): '))\n",
    "horizontal_distance_of_target = high_of_boat * math.tan(70*math.pi/180)/100\n",
    "view = 2*(high_of_boat/math.cos(80*math.pi/180))*math.tan(5.35 * math.pi/180)\n",
    "print('horizontal_distance is ' + str(horizontal_distance_of_target)+ ' m')\n",
    "print('view size is ' + str(view) + ' cm')"
   ]
  },
  {
   "cell_type": "code",
   "execution_count": null,
   "id": "eb1e8ff9",
   "metadata": {},
   "outputs": [],
   "source": []
  }
 ],
 "metadata": {
  "kernelspec": {
   "display_name": "Python 3 (ipykernel)",
   "language": "python",
   "name": "python3"
  },
  "language_info": {
   "codemirror_mode": {
    "name": "ipython",
    "version": 3
   },
   "file_extension": ".py",
   "mimetype": "text/x-python",
   "name": "python",
   "nbconvert_exporter": "python",
   "pygments_lexer": "ipython3",
   "version": "3.8.15"
  }
 },
 "nbformat": 4,
 "nbformat_minor": 5
}
