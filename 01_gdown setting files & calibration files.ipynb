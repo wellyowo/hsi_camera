{
 "cells": [
  {
   "cell_type": "code",
   "execution_count": 5,
   "id": "55bae457",
   "metadata": {},
   "outputs": [],
   "source": [
    "import gdown\n",
    "import zipfile"
   ]
  },
  {
   "cell_type": "code",
   "execution_count": 19,
   "id": "1f4010e6",
   "metadata": {},
   "outputs": [],
   "source": [
    "!rm ~/.cache/gdown/cookies.json"
   ]
  },
  {
   "cell_type": "code",
   "execution_count": 21,
   "id": "5816cc52",
   "metadata": {
    "scrolled": true
   },
   "outputs": [
    {
     "name": "stderr",
     "output_type": "stream",
     "text": [
      "Downloading...\n",
      "From: https://drive.google.com/uc?id=19b9EOcVmmxV5Q6nmMywrsPg1MZ15TwOY&authuser=0&export=download&confirm=t\n",
      "To: /home/arghsi/hsi_camera/hsi12.zip\n",
      "100%|████████████████████████████████████████| 474M/474M [00:13<00:00, 35.3MB/s]\n"
     ]
    },
    {
     "data": {
      "text/plain": [
       "'hsi12.zip'"
      ]
     },
     "execution_count": 21,
     "metadata": {},
     "output_type": "execute_result"
    }
   ],
   "source": [
    "#download the setting &calibration files\n",
    "file_url = 'https://drive.google.com/uc?id=19b9EOcVmmxV5Q6nmMywrsPg1MZ15TwOY' + \"&authuser=0&export=download&confirm=t\"\n",
    "file_name = 'hsi12.zip'\n",
    "gdown.download(file_url, output= file_name)"
   ]
  },
  {
   "cell_type": "code",
   "execution_count": 14,
   "id": "a2a5f254",
   "metadata": {},
   "outputs": [],
   "source": [
    "zip_file = zipfile.ZipFile(file_name)\n",
    "zip_file.extractall()\n",
    "zip_file.close()"
   ]
  },
  {
   "cell_type": "code",
   "execution_count": 15,
   "id": "1a42c639",
   "metadata": {},
   "outputs": [
    {
     "name": "stdout",
     "output_type": "stream",
     "text": [
      "'01_gdown setting files & calibration files.ipynb'\r\n",
      " 02_distance_to_target.ipynb\r\n",
      " 03_hsi_camera_scan_with_openhsi.ipynb\r\n",
      " \u001b[0m\u001b[01;31m6SV-1.1.tar\u001b[0m\r\n",
      " \u001b[01;34mDocker\u001b[0m/\r\n",
      " OpenHSI-12_calibration_Mono12_bin1.pkl\r\n",
      " OpenHSI-12_calibration_Mono12_bin1_window.pkl\r\n",
      " OpenHSI-12_calibration_Mono12_bin2.pkl\r\n",
      " OpenHSI-12_calibration_Mono12_bin2_window.pkl\r\n",
      " OpenHSI-12_calibration_Mono8_bin1.pkl\r\n",
      " OpenHSI-12_calibration_Mono8_bin1_window.pkl\r\n",
      " OpenHSI-12_calibration_Mono8_bin2.pkl\r\n",
      " OpenHSI-12_calibration_Mono8_bin2_window.pkl\r\n",
      " OpenHSI-12_settings_Mono12_bin1.json\r\n",
      " OpenHSI-12_settings_Mono12_bin2.json\r\n",
      " OpenHSI-12_settings_Mono8_bin1.json\r\n",
      " OpenHSI-12_settings_Mono8_bin2.json\r\n",
      " OpenHSI-12_settings_summary.txt\r\n",
      " README.md\r\n",
      " datacube_to_csv.ipynb\r\n",
      " \u001b[01;32mdocker_join.sh\u001b[0m*\r\n",
      " \u001b[01;32mdocker_run.sh\u001b[0m*\r\n",
      " \u001b[01;31mhsi12.zip\u001b[0m\r\n",
      " tags\r\n"
     ]
    }
   ],
   "source": [
    "ls"
   ]
  },
  {
   "cell_type": "code",
   "execution_count": 16,
   "id": "ab220534",
   "metadata": {},
   "outputs": [
    {
     "name": "stdout",
     "output_type": "stream",
     "text": [
      "{\r",
      "\r\n",
      "    \"camera_id\": \"OpenHSI-12\",\r",
      "\r\n",
      "    \"row_slice\": [\r",
      "\r\n",
      "        14,\r",
      "\r\n",
      "        894\r",
      "\r\n",
      "    ],\r",
      "\r\n",
      "    \"resolution\": [\r",
      "\r\n",
      "        912,\r",
      "\r\n",
      "        1056\r",
      "\r\n",
      "    ],\r",
      "\r\n",
      "    \"fwhm_nm\": 4,\r",
      "\r\n",
      "    \"exposure_ms\": 20.000664,\r",
      "\r\n",
      "    \"luminance\": 20000,\r",
      "\r\n",
      "    \"datetime_str\": \"2021-05-26 03:26\",\r",
      "\r\n",
      "    \"binxy\": [\r",
      "\r\n",
      "        1,\r",
      "\r\n",
      "        1\r",
      "\r\n",
      "    ],\r",
      "\r\n",
      "    \"win_offset\": [\r",
      "\r\n",
      "        100,\r",
      "\r\n",
      "        96\r",
      "\r\n",
      "    ],\r",
      "\r\n",
      "    \"win_resolution\": [\r",
      "\r\n",
      "        912,\r",
      "\r\n",
      "        1056\r",
      "\r\n",
      "    ],\r",
      "\r\n",
      "    \"pixel_format\": \"Mono12\"\r",
      "\r\n",
      "}"
     ]
    }
   ],
   "source": [
    "cat OpenHSI-12_settings_Mono12_bin1.json"
   ]
  },
  {
   "cell_type": "code",
   "execution_count": 17,
   "id": "c8fe533c",
   "metadata": {},
   "outputs": [
    {
     "name": "stdout",
     "output_type": "stream",
     "text": [
      "{\r",
      "\r\n",
      "    \"camera_id\": \"OpenHSI-12\",\r",
      "\r\n",
      "    \"row_slice\": [\r",
      "\r\n",
      "        7,\r",
      "\r\n",
      "        447\r",
      "\r\n",
      "    ],\r",
      "\r\n",
      "    \"resolution\": [\r",
      "\r\n",
      "        456,\r",
      "\r\n",
      "        528\r",
      "\r\n",
      "    ],\r",
      "\r\n",
      "    \"fwhm_nm\": 4,\r",
      "\r\n",
      "    \"exposure_ms\": 8.003664,\r",
      "\r\n",
      "    \"luminance\": 6000,\r",
      "\r\n",
      "    \"datetime_str\": \"2021-05-26 03:26\",\r",
      "\r\n",
      "    \"binxy\": [\r",
      "\r\n",
      "        2,\r",
      "\r\n",
      "        2\r",
      "\r\n",
      "    ],\r",
      "\r\n",
      "    \"win_offset\": [\r",
      "\r\n",
      "        50,\r",
      "\r\n",
      "        48\r",
      "\r\n",
      "    ],\r",
      "\r\n",
      "    \"win_resolution\": [\r",
      "\r\n",
      "        456,\r",
      "\r\n",
      "        528\r",
      "\r\n",
      "    ],\r",
      "\r\n",
      "    \"pixel_format\": \"Mono12\"\r",
      "\r\n",
      "}"
     ]
    }
   ],
   "source": [
    "cat OpenHSI-12_settings_Mono12_bin2.json"
   ]
  },
  {
   "cell_type": "code",
   "execution_count": 18,
   "id": "ce57ba4a",
   "metadata": {},
   "outputs": [
    {
     "name": "stdout",
     "output_type": "stream",
     "text": [
      "Access denied with the following error:\n"
     ]
    },
    {
     "name": "stderr",
     "output_type": "stream",
     "text": [
      "\n",
      " \tCannot retrieve the public link of the file. You may need to change\n",
      "\tthe permission to 'Anyone with the link', or have had many accesses. \n",
      "\n",
      "You may still be able to access the file from the browser:\n",
      "\n",
      "\t https://drive.google.com/uc?id=1jY6V7hsdwCik5GkrfcSTE0Wm0Mem7mqt \n",
      "\n"
     ]
    },
    {
     "ename": "FileNotFoundError",
     "evalue": "[Errno 2] No such file or directory: 'hsi12_fix.zip'",
     "output_type": "error",
     "traceback": [
      "\u001b[0;31m---------------------------------------------------------------------------\u001b[0m",
      "\u001b[0;31mFileNotFoundError\u001b[0m                         Traceback (most recent call last)",
      "Cell \u001b[0;32mIn [18], line 5\u001b[0m\n\u001b[1;32m      3\u001b[0m file_name_fix \u001b[38;5;241m=\u001b[39m \u001b[38;5;124m'\u001b[39m\u001b[38;5;124mhsi12_fix.zip\u001b[39m\u001b[38;5;124m'\u001b[39m\n\u001b[1;32m      4\u001b[0m gdown\u001b[38;5;241m.\u001b[39mdownload(file_url, output\u001b[38;5;241m=\u001b[39m file_name_fix)\n\u001b[0;32m----> 5\u001b[0m zip_file \u001b[38;5;241m=\u001b[39m \u001b[43mzipfile\u001b[49m\u001b[38;5;241;43m.\u001b[39;49m\u001b[43mZipFile\u001b[49m\u001b[43m(\u001b[49m\u001b[43mfile_name_fix\u001b[49m\u001b[43m)\u001b[49m\n\u001b[1;32m      6\u001b[0m zip_file\u001b[38;5;241m.\u001b[39mextractall()\n\u001b[1;32m      7\u001b[0m zip_file\u001b[38;5;241m.\u001b[39mclose()\n",
      "File \u001b[0;32m/usr/lib/python3.8/zipfile.py:1251\u001b[0m, in \u001b[0;36mZipFile.__init__\u001b[0;34m(self, file, mode, compression, allowZip64, compresslevel, strict_timestamps)\u001b[0m\n\u001b[1;32m   1249\u001b[0m \u001b[38;5;28;01mwhile\u001b[39;00m \u001b[38;5;28;01mTrue\u001b[39;00m:\n\u001b[1;32m   1250\u001b[0m     \u001b[38;5;28;01mtry\u001b[39;00m:\n\u001b[0;32m-> 1251\u001b[0m         \u001b[38;5;28mself\u001b[39m\u001b[38;5;241m.\u001b[39mfp \u001b[38;5;241m=\u001b[39m \u001b[43mio\u001b[49m\u001b[38;5;241;43m.\u001b[39;49m\u001b[43mopen\u001b[49m\u001b[43m(\u001b[49m\u001b[43mfile\u001b[49m\u001b[43m,\u001b[49m\u001b[43m \u001b[49m\u001b[43mfilemode\u001b[49m\u001b[43m)\u001b[49m\n\u001b[1;32m   1252\u001b[0m     \u001b[38;5;28;01mexcept\u001b[39;00m \u001b[38;5;167;01mOSError\u001b[39;00m:\n\u001b[1;32m   1253\u001b[0m         \u001b[38;5;28;01mif\u001b[39;00m filemode \u001b[38;5;129;01min\u001b[39;00m modeDict:\n",
      "\u001b[0;31mFileNotFoundError\u001b[0m: [Errno 2] No such file or directory: 'hsi12_fix.zip'"
     ]
    }
   ],
   "source": [
    "#download the setting &calibration files fix version for py6s\n",
    "file_url = 'https://drive.google.com/uc?id=1jY6V7hsdwCik5GkrfcSTE0Wm0Mem7mqt'\n",
    "file_name_fix = 'hsi12_fix.zip'\n",
    "gdown.download(file_url, output= file_name_fix)\n",
    "zip_file = zipfile.ZipFile(file_name_fix)\n",
    "zip_file.extractall()\n",
    "zip_file.close()"
   ]
  },
  {
   "cell_type": "code",
   "execution_count": null,
   "id": "7fc428cd",
   "metadata": {},
   "outputs": [],
   "source": []
  }
 ],
 "metadata": {
  "kernelspec": {
   "display_name": "Python 3 (ipykernel)",
   "language": "python",
   "name": "python3"
  },
  "language_info": {
   "codemirror_mode": {
    "name": "ipython",
    "version": 3
   },
   "file_extension": ".py",
   "mimetype": "text/x-python",
   "name": "python",
   "nbconvert_exporter": "python",
   "pygments_lexer": "ipython3",
   "version": "3.8.15"
  }
 },
 "nbformat": 4,
 "nbformat_minor": 5
}
