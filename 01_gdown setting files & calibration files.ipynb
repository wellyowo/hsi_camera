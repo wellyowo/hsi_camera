{
 "cells": [
  {
   "cell_type": "code",
   "execution_count": 5,
   "id": "55bae457",
   "metadata": {},
   "outputs": [],
   "source": [
    "import gdown\n",
    "import zipfile"
   ]
  },
  {
   "cell_type": "code",
   "execution_count": 19,
   "id": "dfc4da81",
   "metadata": {},
   "outputs": [],
   "source": [
    "!rm ~/.cache/gdown/cookies.json"
   ]
  },
  {
   "cell_type": "code",
   "execution_count": 21,
   "id": "5816cc52",
   "metadata": {
    "scrolled": true
   },
   "outputs": [
    {
     "name": "stderr",
     "output_type": "stream",
     "text": [
      "Downloading...\n",
      "From: https://drive.google.com/uc?id=19b9EOcVmmxV5Q6nmMywrsPg1MZ15TwOY&authuser=0&export=download&confirm=t\n",
      "To: /home/arghsi/hsi_camera/hsi12.zip\n",
      "100%|████████████████████████████████████████| 474M/474M [00:13<00:00, 35.3MB/s]\n"
     ]
    },
    {
     "data": {
      "text/plain": [
       "'hsi12.zip'"
      ]
     },
     "execution_count": 21,
     "metadata": {},
     "output_type": "execute_result"
    }
   ],
   "source": [
    "#download the setting &calibration files\n",
    "file_url = 'https://drive.google.com/uc?id=19b9EOcVmmxV5Q6nmMywrsPg1MZ15TwOY' + \"&authuser=0&export=download&confirm=t\"\n",
    "file_name = 'hsi12.zip'\n",
    "gdown.download(file_url, output= file_name)"
   ]
  },
  {
   "cell_type": "code",
   "execution_count": 14,
   "id": "a2a5f254",
   "metadata": {},
   "outputs": [],
   "source": [
    "zip_file = zipfile.ZipFile(file_name)\n",
    "zip_file.extractall()\n",
    "zip_file.close()"
   ]
  },
  {
   "cell_type": "code",
   "execution_count": 15,
   "id": "1a42c639",
   "metadata": {},
   "outputs": [
    {
     "name": "stdout",
     "output_type": "stream",
     "text": [
      "'01_gdown setting files & calibration files.ipynb'\r\n",
      " 02_distance_to_target.ipynb\r\n",
      " 03_hsi_camera_scan_with_openhsi.ipynb\r\n",
      " \u001b[0m\u001b[01;31m6SV-1.1.tar\u001b[0m\r\n",
      " \u001b[01;34mDocker\u001b[0m/\r\n",
      " OpenHSI-12_calibration_Mono12_bin1.pkl\r\n",
      " OpenHSI-12_calibration_Mono12_bin1_window.pkl\r\n",
      " OpenHSI-12_calibration_Mono12_bin2.pkl\r\n",
      " OpenHSI-12_calibration_Mono12_bin2_window.pkl\r\n",
      " OpenHSI-12_calibration_Mono8_bin1.pkl\r\n",
      " OpenHSI-12_calibration_Mono8_bin1_window.pkl\r\n",
      " OpenHSI-12_calibration_Mono8_bin2.pkl\r\n",
      " OpenHSI-12_calibration_Mono8_bin2_window.pkl\r\n",
      " OpenHSI-12_settings_Mono12_bin1.json\r\n",
      " OpenHSI-12_settings_Mono12_bin2.json\r\n",
      " OpenHSI-12_settings_Mono8_bin1.json\r\n",
      " OpenHSI-12_settings_Mono8_bin2.json\r\n",
      " OpenHSI-12_settings_summary.txt\r\n",
      " README.md\r\n",
      " datacube_to_csv.ipynb\r\n",
      " \u001b[01;32mdocker_join.sh\u001b[0m*\r\n",
      " \u001b[01;32mdocker_run.sh\u001b[0m*\r\n",
      " \u001b[01;31mhsi12.zip\u001b[0m\r\n",
      " tags\r\n"
     ]
    }
   ],
   "source": [
    "ls"
   ]
  },
  {
   "cell_type": "code",
   "execution_count": 16,
   "id": "ab220534",
   "metadata": {},
   "outputs": [
    {
     "name": "stdout",
     "output_type": "stream",
     "text": [
      "{\r",
      "\r\n",
      "    \"camera_id\": \"OpenHSI-12\",\r",
      "\r\n",
      "    \"row_slice\": [\r",
      "\r\n",
      "        14,\r",
      "\r\n",
      "        894\r",
      "\r\n",
      "    ],\r",
      "\r\n",
      "    \"resolution\": [\r",
      "\r\n",
      "        912,\r",
      "\r\n",
      "        1056\r",
      "\r\n",
      "    ],\r",
      "\r\n",
      "    \"fwhm_nm\": 4,\r",
      "\r\n",
      "    \"exposure_ms\": 20.000664,\r",
      "\r\n",
      "    \"luminance\": 20000,\r",
      "\r\n",
      "    \"datetime_str\": \"2021-05-26 03:26\",\r",
      "\r\n",
      "    \"binxy\": [\r",
      "\r\n",
      "        1,\r",
      "\r\n",
      "        1\r",
      "\r\n",
      "    ],\r",
      "\r\n",
      "    \"win_offset\": [\r",
      "\r\n",
      "        100,\r",
      "\r\n",
      "        96\r",
      "\r\n",
      "    ],\r",
      "\r\n",
      "    \"win_resolution\": [\r",
      "\r\n",
      "        912,\r",
      "\r\n",
      "        1056\r",
      "\r\n",
      "    ],\r",
      "\r\n",
      "    \"pixel_format\": \"Mono12\"\r",
      "\r\n",
      "}"
     ]
    }
   ],
   "source": [
    "cat OpenHSI-12_settings_Mono12_bin1.json"
   ]
  },
  {
   "cell_type": "code",
   "execution_count": 17,
   "id": "c8fe533c",
   "metadata": {},
   "outputs": [
    {
     "name": "stdout",
     "output_type": "stream",
     "text": [
      "{\r",
      "\r\n",
      "    \"camera_id\": \"OpenHSI-12\",\r",
      "\r\n",
      "    \"row_slice\": [\r",
      "\r\n",
      "        7,\r",
      "\r\n",
      "        447\r",
      "\r\n",
      "    ],\r",
      "\r\n",
      "    \"resolution\": [\r",
      "\r\n",
      "        456,\r",
      "\r\n",
      "        528\r",
      "\r\n",
      "    ],\r",
      "\r\n",
      "    \"fwhm_nm\": 4,\r",
      "\r\n",
      "    \"exposure_ms\": 8.003664,\r",
      "\r\n",
      "    \"luminance\": 6000,\r",
      "\r\n",
      "    \"datetime_str\": \"2021-05-26 03:26\",\r",
      "\r\n",
      "    \"binxy\": [\r",
      "\r\n",
      "        2,\r",
      "\r\n",
      "        2\r",
      "\r\n",
      "    ],\r",
      "\r\n",
      "    \"win_offset\": [\r",
      "\r\n",
      "        50,\r",
      "\r\n",
      "        48\r",
      "\r\n",
      "    ],\r",
      "\r\n",
      "    \"win_resolution\": [\r",
      "\r\n",
      "        456,\r",
      "\r\n",
      "        528\r",
      "\r\n",
      "    ],\r",
      "\r\n",
      "    \"pixel_format\": \"Mono12\"\r",
      "\r\n",
      "}"
     ]
    }
   ],
   "source": [
    "cat OpenHSI-12_settings_Mono12_bin2.json"
   ]
  },
  {
   "cell_type": "code",
   "execution_count": 22,
   "id": "ce57ba4a",
   "metadata": {},
   "outputs": [
    {
     "name": "stderr",
     "output_type": "stream",
     "text": [
      "Downloading...\n",
      "From: https://drive.google.com/uc?id=1jY6V7hsdwCik5GkrfcSTE0Wm0Mem7mqt&authuser=0&export=download&confirm=t\n",
      "To: /home/arghsi/hsi_camera/hsi12_fix.zip\n",
      "100%|███████████████████████████████████████████████████████████████████████████████████████████████████████████████████████████████████████████████████████████████████████████| 118M/118M [00:03<00:00, 39.4MB/s]\n"
     ]
    }
   ],
   "source": [
    "#download the setting &calibration files fix version for py6s\n",
    "file_url = 'https://drive.google.com/uc?id=1jY6V7hsdwCik5GkrfcSTE0Wm0Mem7mqt' + \"&authuser=0&export=download&confirm=t\"\n",
    "file_name_fix = 'hsi12_fix.zip'\n",
    "gdown.download(file_url, output= file_name_fix)\n",
    "zip_file = zipfile.ZipFile(file_name_fix)\n",
    "zip_file.extractall()\n",
    "zip_file.close()"
   ]
  },
  {
   "cell_type": "code",
   "execution_count": null,
   "id": "7fc428cd",
   "metadata": {},
   "outputs": [],
   "source": []
  }
 ],
 "metadata": {
  "kernelspec": {
   "display_name": "Python 3 (ipykernel)",
   "language": "python",
   "name": "python3"
  },
  "language_info": {
   "codemirror_mode": {
    "name": "ipython",
    "version": 3
   },
   "file_extension": ".py",
   "mimetype": "text/x-python",
   "name": "python",
   "nbconvert_exporter": "python",
   "pygments_lexer": "ipython3",
   "version": "3.8.15"
  }
 },
 "nbformat": 4,
 "nbformat_minor": 5
}
